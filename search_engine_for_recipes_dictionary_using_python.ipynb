{
  "nbformat": 4,
  "nbformat_minor": 0,
  "metadata": {
    "kernelspec": {
      "display_name": "Python 3",
      "language": "python",
      "name": "python3"
    },
    "language_info": {
      "codemirror_mode": {
        "name": "ipython",
        "version": 3
      },
      "file_extension": ".py",
      "mimetype": "text/x-python",
      "name": "python",
      "nbconvert_exporter": "python",
      "pygments_lexer": "ipython3",
      "version": "3.7.3"
    },
    "colab": {
      "name": "Search Engine for Recipes Dictionary using Python.ipynb",
      "provenance": [],
      "collapsed_sections": [],
      "include_colab_link": true
    }
  },
  "cells": [
    {
      "cell_type": "markdown",
      "metadata": {
        "id": "view-in-github",
        "colab_type": "text"
      },
      "source": [
        "<a href=\"https://colab.research.google.com/github/darshan-hindocha/lab/blob/main/search_engine_for_recipes_dictionary_using_python.ipynb\" target=\"_parent\"><img src=\"https://colab.research.google.com/assets/colab-badge.svg\" alt=\"Open In Colab\"/></a>"
      ]
    },
    {
      "cell_type": "markdown",
      "metadata": {
        "id": "UuK6K5YPqueG"
      },
      "source": [
        "Dataset is available [here](https://drive.google.com/file/d/18ygiW-A8BYmwEOs2-O5shh1JHPW9Sg6r/view?usp=sharing)"
      ]
    },
    {
      "cell_type": "markdown",
      "metadata": {
        "id": "2oXSprvQlu09"
      },
      "source": [
        "### Libraries for studying and chilling"
      ]
    },
    {
      "cell_type": "code",
      "metadata": {
        "id": "Lvx76xu3lu0-"
      },
      "source": [
        "import numpy\n",
        "import json\n",
        "import string\n",
        "import time\n",
        "import math"
      ],
      "execution_count": null,
      "outputs": []
    },
    {
      "cell_type": "markdown",
      "metadata": {
        "id": "sDKyhmOKlu1C"
      },
      "source": [
        "### Tokenisation"
      ]
    },
    {
      "cell_type": "code",
      "metadata": {
        "id": "hmdaCq_slu1C"
      },
      "source": [
        "def tokenisation(strin):\n",
        "    strin=str(strin)\n",
        "    tokens=''\n",
        "    space=string.punctuation+string.digits\n",
        "    for i in strin:\n",
        "        if i in space:\n",
        "            tokens += ' '\n",
        "        else: tokens += i\n",
        "    \n",
        "    tokens=tokens.lower()\n",
        "    tokens=tokens.split()\n",
        "    tokens=[t for t in tokens if len(t)>2]\n",
        "    return tokens"
      ],
      "execution_count": null,
      "outputs": []
    },
    {
      "cell_type": "markdown",
      "metadata": {
        "id": "EQGrwnS0lu1G"
      },
      "source": [
        "### Parse Dataset\n",
        "\n",
        " * `title` : Name of recipe; you can assume these are unique\n",
        " * `categories` : A list of tags assigned to the recipe\n",
        " * `ingredients` : What is in it, as a list\n",
        " * `directions` : List of steps to make the recipe\n",
        " * `rating` : A rating, out of 5, of how good it is\n",
        " * `calories` : How many calories it has\n",
        " * `protein` : How much protein is in it\n",
        " * `fat` : How much fat is in it"
      ]
    },
    {
      "cell_type": "code",
      "metadata": {
        "id": "25yYCAXwlu1I"
      },
      "source": [
        "with open('recipes.json') as json_file:\n",
        "    frecipebook=json.load(json_file)\n",
        "  \n",
        "\n",
        " \n",
        "checkall=[]\n",
        "checknormal=[]\n",
        "for l in range(len(frecipebook)):\n",
        "    checknormal.append([])\n",
        "\n",
        "for i,recipe in enumerate(frecipebook):\n",
        "    checkall.append(tokenisation(recipe.values()))\n",
        "    checknormal[i].append(tokenisation(recipe['title']))\n",
        "    \n",
        "    try: frecipebook[i]['categories']\n",
        "    except KeyError: frecipebook[i]['categories']=[]\n",
        "    checknormal[i].append(tokenisation(recipe['categories']))\n",
        "    \n",
        "    try: frecipebook[i]['ingredients']\n",
        "    except KeyError: frecipebook[i]['ingredients']=[]\n",
        "    checknormal[i].append(tokenisation(recipe['ingredients']))\n",
        "    \n",
        "    try: frecipebook[i]['directions']\n",
        "    except KeyError: frecipebook[i]['directions']=[]\n",
        "    checknormal[i].append(tokenisation(recipe['directions']))\n",
        "        \n",
        "\n",
        "    \n",
        "    \n",
        "\n"
      ],
      "execution_count": null,
      "outputs": []
    },
    {
      "cell_type": "markdown",
      "metadata": {
        "id": "YPHoHZQMlu1M"
      },
      "source": [
        "### Ordering"
      ]
    },
    {
      "cell_type": "markdown",
      "metadata": {
        "id": "j-slVSZulu1N"
      },
      "source": [
        "#### Normal\n",
        "\n",
        "The score sums the following terms (repeated words are counted multiple times, i.e. \"cheese cheese cheese\" is $3$ matches to \"cheese\"):\n",
        "\n",
        "     * 8x Number of times a query word appears in the title\n",
        "     * 4x Number of times a query word appears in the categories\n",
        "     * 2x Number of times a query word appears in the ingredients\n",
        "     * 1x Number of times a query word appears in the directions\n",
        "     * The `rating` of the recipe (if not available assume 0)"
      ]
    },
    {
      "cell_type": "code",
      "metadata": {
        "id": "7oz_9LX-lu1N"
      },
      "source": [
        "def queryscore(query,ind):\n",
        "    out=0\n",
        "    for q in query:\n",
        "        if q not in checkall[ind]:\n",
        "            return 0\n",
        "        \n",
        "        out+=8*(checknormal[ind][0].count(q))\n",
        "        out+=4*(checknormal[ind][1].count(q))\n",
        "        out+=2*(checknormal[ind][2].count(q))\n",
        "        out+=checknormal[ind][3].count(q)\n",
        "    try: out+=frecipebook[ind]['rating']\n",
        "    except KeyError: pass\n",
        "        \n",
        "    return out\n",
        "\n",
        "\n",
        "def normalorder(query,count):\n",
        "    score=numpy.zeros((len(frecipebook),2))\n",
        "    score[:,1]=numpy.arange(len(frecipebook))\n",
        "    \n",
        "    for ind in range(len(frecipebook)):\n",
        "        score[ind][0]=queryscore(query,ind)\n",
        "                \n",
        "    #no or few matches\n",
        "    score=score[numpy.where(score[:,0]>0)]\n",
        "    \n",
        "    #order descending according to score[:,0]\n",
        "    out = score[(-score[:,0]).argsort()][:count].astype(int)\n",
        "\n",
        "    return out\n",
        "\n"
      ],
      "execution_count": null,
      "outputs": []
    },
    {
      "cell_type": "markdown",
      "metadata": {
        "id": "sLq-eaCylu1U"
      },
      "source": [
        "#### Simple"
      ]
    },
    {
      "cell_type": "code",
      "metadata": {
        "id": "_Tg3Jwkelu1U"
      },
      "source": [
        "\n",
        "\n",
        "def simpleorder(recipes,count):\n",
        "    score=numpy.zeros((len(recipes),2))\n",
        "    score[:,0]=1000\n",
        "    indexers=numpy.arange(len(recipes))\n",
        "    score[:,1]=indexers\n",
        "    \n",
        "    for ind,r in enumerate(recipes): \n",
        "        numing=len(r['ingredients'])\n",
        "        numstep=len(r['directions'])\n",
        "        if numing>1 and numstep>1:\n",
        "            score[ind][0]=numing*numstep\n",
        "\n",
        "    score=score[numpy.where(score[:,0]<1000)]\n",
        "\n",
        "    out=score[(score[:,0]).argsort()][:count].astype(int)\n",
        "    # add part that doesn't output anything if there is no match\n",
        "    \n",
        "    return out\n",
        "            \n",
        "            \n",
        "            "
      ],
      "execution_count": null,
      "outputs": []
    },
    {
      "cell_type": "markdown",
      "metadata": {
        "id": "VDrcLY8Qlu1Y"
      },
      "source": [
        "#### Healthy\n",
        " $$\\frac{|\\texttt{calories} - 510n|}{510} + 2\\frac{|\\texttt{protein} - 18n|}{18} + 4\\frac{|\\texttt{fat} - 150n|}{150}$$"
      ]
    },
    {
      "cell_type": "code",
      "metadata": {
        "id": "5yfhX-Eklu1Z"
      },
      "source": [
        "\n",
        "def healthyorder(recipes,count):\n",
        "    score=numpy.zeros((len(recipes),2))\n",
        "    score[:,0]=100000\n",
        "    indexers=numpy.arange(len(recipes))\n",
        "    score[:,1]=indexers\n",
        "    for ind,r in enumerate(recipes):          \n",
        "            try:\n",
        "                prot=r['protein']\n",
        "                cal=r['calories']\n",
        "                fat=r['fat']\n",
        "            except KeyError: pass\n",
        "            else:\n",
        "                nmin={'metric':10000}\n",
        "                for n in range(1,11):\n",
        "                    metric = (abs(cal-(510*n))/510) +(abs(prot-(18*n))/9) + 4*(abs(fat-(150*n))/150)\n",
        "                    if metric < nmin['metric']:\n",
        "                        nmin['metric']=metric\n",
        "                score[ind][0]=nmin['metric']\n",
        "            \n",
        "    score=score[numpy.where(score[:,0]<100000)]\n",
        "    out=score[(score[:,0]).argsort()][:count].astype(int)\n",
        "    \n",
        "    return out\n",
        "                \n",
        "            "
      ],
      "execution_count": null,
      "outputs": []
    },
    {
      "cell_type": "markdown",
      "metadata": {
        "id": "A4SRghoklu1d"
      },
      "source": [
        "### Search Function\n",
        " It `print`s out the results of the search, subject to the following rules:\n",
        " 1. It selects from the set of all recipes that contain __all__ of the words in the query (the positions/order of the words in the recipe are to be ignored).\n",
        " 2. It orders them based on the provided ordering (a string, meaning defined below).\n",
        " 3. It `print`s the top `count` matches only, preserving the order from best to worst. Must `print` just their title, one per line. Must be less than `count` if the search is specific enough that less than `count` recipes match."
      ]
    },
    {
      "cell_type": "code",
      "metadata": {
        "id": "sdqh7kdIlu1d"
      },
      "source": [
        "\n",
        "def search(query, ordering = 'normal', count = 10):\n",
        "    \n",
        "    query=tokenisation(query)\n",
        "    \n",
        "    #tic=time.process_time()\n",
        "\n",
        "    if ordering=='normal':\n",
        "        out=normalorder(query,count) \n",
        "        for o in out:\n",
        "            print(frecipebook[o[1]]['title'])\n",
        "    else:\n",
        "        recipes=[]\n",
        "        for ind,rec in enumerate(frecipebook):\n",
        "            if all(q in checkall[ind] for q in query):\n",
        "                recipes.append(rec)\n",
        "        \n",
        "        if recipes==[]:\n",
        "            return\n",
        "\n",
        "        if ordering == 'simple':\n",
        "            out = simpleorder(recipes,count)\n",
        "        elif ordering == 'healthy':\n",
        "            out = healthyorder(recipes,count)\n",
        "\n",
        "        for o in out: #search results must be in order at this point\n",
        "            print(recipes[o[1]]['title'])\n",
        "\n",
        "    #toc=time.process_time()    \n",
        "    #print(toc-tic)\n",
        "    return \n"
      ],
      "execution_count": null,
      "outputs": []
    }
  ]
}